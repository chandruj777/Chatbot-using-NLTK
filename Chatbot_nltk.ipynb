{
 "cells": [
  {
   "cell_type": "code",
   "execution_count": 1,
   "metadata": {},
   "outputs": [],
   "source": [
    "\"\"\"\n",
    "Created on Wed Jul  5 16:44:29 2023\n",
    "\n",
    "@author: my pc\n",
    "\"\"\"\n",
    "import cv2\n",
    "import nltk\n",
    "from nltk.chat.util import Chat,reflections"
   ]
  },
  {
   "cell_type": "code",
   "execution_count": 2,
   "metadata": {},
   "outputs": [],
   "source": [
    "pairs=[[\n",
    "        \"(.*) my name is (.*)\",\n",
    "        [\"Hii %2,how are you\"]],\n",
    "       [\"(.*) help(.*)\",\n",
    "        [\"How may i help you\"]],\n",
    "       [\"(.*)regression alogrithms(.*)\",\n",
    "        [\"These are regression alogrithms :linear regression,multiple linear regression,polynomial regression,support vector regressor,kneareast neighbors regressor,Decision tree regression,random forest regression\"]],\n",
    "       [\"(.*)classification alogrithms(.*)\",\n",
    "        [\"logistic regression,support vector classification,naive_bayes classification,knearest neigbors classifier,decisiontree classifier,random forest classifier\"]],\n",
    "       [\"(.*)clustering alogrithms(.*)\",\n",
    "        [\"we have two clustering those are: K_means Clustering and Agglomerative clustering\"]],\n",
    "       [\"(.*)most important thing in clustering(.*)\",\n",
    "        [\"we have draw first elbow graph by using the elbow graph we can find the kvalues by using these values we can build the models\"]],\n",
    "       [\"(.*)define the dataset belong with alogrithms(.*)\",\n",
    "        [\"Based on the depedent varibule (Target varibules(y)) we can decide the dataset belong which category.if the depedent varibule is continous there we can use regression alogrithms ,if the depedent varibules is binary there we can use classification alogrithms ,if there is no depedent varibule we can use clustering alogrithms\"]],\n",
    "       [\"(.*)find regression model is perfect(.*)\",\n",
    "        [\"If the model is regression model we can calculate the mse and r2_score for the model.Based on the mse(mean_squared_error) and r2_score we can find the perfect fit model .Mse value should be high and r2_score should be low\"]],\n",
    "       [\"(.*)find classification model is perfect(.*)\",\n",
    "        [\"We can calculate the best fit model for classification by using the accuracy_score and confusion_matrix and classification_report\"]],\n",
    "       [\"(.*)package used in machine learnings(.*)\",\n",
    "        [\"Sklearn(scikit-learn) is package used in the meachine learnings\"]],\n",
    "       [\"(.*)code for svm regression(.*)\",\n",
    "        [\"\"\"from sklearn.svm import SVR\n",
    "         svr=SVR()\n",
    "         svc.fit(X_train,y_train)\n",
    "         y_pred=svc.predict(X_train)\n",
    "         by using these we first install the sklearn by uisng pip (pip install sklearn),In place of X_train,and y_train,you can assign your own train data Inplace of SVC you can use the any other alogrithms as well like knn,decsiontree,randomforest,boosting alogrithms\"\"\"]],\n",
    "         [\"(.*)code for knn regression(.*)\",\n",
    "          [\"\"\"from sklearn.neighbors import KNeighborsRegressor\n",
    "           knn=KNeighborsRegressor()\n",
    "           knn.fit(X_train,y_train)\n",
    "           y_pred=knn.predict(X_train)\n",
    "           by using these we first install the sklearn by uisng pip (pip install sklearn),In place of X_train,and y_train,you can assign your own train data Inplace of knn you can use the any other alogrithms as well like svr,decsiontree,randomforest,boosting alogrithms\"\"\"]],\n",
    "           [\"(.*)code for decisiontree regression(.*)\",\n",
    "            [\"\"\"from sklearn.tree import DecionTreeRegressor\n",
    "             tree=DecisionTreeRegressor()\n",
    "             tree.fit(X_train,y_train)\n",
    "             y_pred=tree.predict(X_train)\n",
    "             by using these we first install the sklearn by uisng pip (pip install sklearn),In place of X_train,and y_train,you can assign your own train data Inplace of decisiontree you can use the any other alogrithms as well like svr,knn,randomforest,boosting alogrithms\"\"\"]],\n",
    "             [\"(.*)code for randomforest regression(.*)\",\n",
    "              [\"\"\"from sklearn.ensemble import RandomForestRegressor\n",
    "               rndf=RandomForestRegressor()\n",
    "               rndf.fit(X_train,y_train)\n",
    "               y_pred=rndf.predict(X_train)\n",
    "               by using these we first install the sklearn by uisng pip (pip install sklearn),In place of X_train,and y_train,you can assign your own train data Inplace of RandomForest you can use the any other alogrithms as well like svr,knn,decsiontree,boosting alogrithms\"\"\"]],\n",
    "               [\"(.*)code for xgboost regression(.*)\",\n",
    "                [\"\"\"from xgboost import XGBRegressor\n",
    "                 xgb=XGBRegressor()\n",
    "                 xgb.fit(X_train,y_train)\n",
    "                 y_pred=xgb.predict(X_train)\"\"\"]],\n",
    "                 [\"(.*)code for svm classification(.*)\",\n",
    "                  [\"\"\"from sklearn.svm import SVC\n",
    "                   svc=SVC()\n",
    "                   svc.fit(X_train,y_train)\n",
    "                   y_pred=svc.predict(X_train)\n",
    "                   by using these we first install the sklearn by uisng pip (pip install sklearn),In place of X_train,and y_train,you can assign your own train data Inplace of svc you can use the any other alogrithms as well like knn,decisiontree,randomforest,boosting alogrithms\"\"\"]],\n",
    "                   [\"(.*)code for knn classification(.*)\",\n",
    "                    [\"\"\"from sklearn.neighbors import KNeighborsClassifier\n",
    "                     knn=KNeighborsClassifier()\n",
    "                     knn.fit(X_train,y_train),\n",
    "                     y_pred=knn.predict(X_train)\n",
    "                     by using these we first install the sklearn by uisng pip (pip install sklearn),In place of X_train,and y_train,you can assign your own train data Inplace of knn you can use the any other alogrithms as well like svc,decsiontree,randomforest,boosting alogrithms\"\"\"]],\n",
    "                     [\"(.*)code for decisiontree classification(.*)\",\n",
    "                      [\"\"\"from sklearn.tree import DecisionTreeClassifier\n",
    "                       tree=DecisionTreeClassifier()\n",
    "                       tree.fit(X_train,y_train),\n",
    "                       y_pred=tree.predict()\n",
    "                       by using these we first install the sklearn by uisng pip (pip install sklearn),In place of X_train,and y_train,you can assign your own train data Inplace of decisiontree you can use the any other alogrithms as well like svr,knn,randomforest,boosting alogrithms\"\"\"]],\n",
    "                       [\"(.*)code for randomforest classification\",\n",
    "                        [\"\"\"from sklearn.ensemble import RandomForestClassifier\n",
    "                         rndf=RandomForestClassifier()\n",
    "                         rndf.fit(X_train,y_train)\n",
    "                         y_pred=rndf.predict(X_train)\n",
    "                         by using these we first install the sklearn by uisng pip (pip install sklearn),In place of X_train,and y_train,you can assign your own train data Inplace of randomforest you can use the any other alogrithms as well like svr,knn,decisiontree,boosting alogrithms\"\"\"]],\n",
    "                         [\"(.*)code for xgboost classification\",\n",
    "                          [\"\"\"from xgboost import XGBClassifier\n",
    "                           xgb=XGBClassifier()\n",
    "                           xgb.fit(X_train,y_train)\n",
    "                           y_pred=xgb.predict(X_train)\n",
    "                           by using these we first install the sklearn by uisng pip (pip install sklearn),In place of X_train,and y_train,you can assign your own train data Inplace of xgboost you can use the any other alogrithms as well like svr,knn,randomforest,decisiontree alogrithms\"\"\"]],\n",
    "                           [\"(.*)calculate meansquarederror(.*) r2_score(.*)\",\n",
    "                            [\"\"\"from sklearn.metrics import mean_squared_error ,r2_score\n",
    "                             mse=mean_squared_error(y_train,y_pred)\n",
    "                             r2=r2_score(y_train,y_pred)\n",
    "                             print(mse)\n",
    "                             print(r2)\n",
    "                             we must install first sklearn(scikit-learn) package by using pip install sckitlearn we can calculate mse and r2_score for regression model here y_true and y_pred based on the model you build\"\"\"]],\n",
    "                             [\"(.*)calcualate accuracy(.*)confusionmatrix(.*)classificationreport(.*)\",\n",
    "                              [\"\"\"from sklearn.metrics import accuracy_score,confusion_matrix,classification_report\n",
    "                               acc=accuracy_score(y_train,y_pred)\n",
    "                               print(acc)\n",
    "                               cm=confusion_matrix(y_train,y_pred)\n",
    "                               print(cm)\n",
    "                               report=classification_report(y_train,y_pred)\n",
    "                               print(report)\n",
    "                               we must install skitlearn by using pip here in place y_train,y_pred you can use your own model data\"\"\"]],\n",
    "                               [\"r(.*)\",\n",
    "                                [\"Sorry i am unable to respond can you check it and try again with right command\"]]]\n",
    "chatbot=Chat(pairs,(reflections))"
   ]
  },
  {
   "cell_type": "code",
   "execution_count": null,
   "metadata": {
    "lines_to_next_cell": 2
   },
   "outputs": [
    {
     "name": "stdout",
     "output_type": "stream",
     "text": [
      "Hii i am chabot how may i help you\n",
      ">tell me about regression alogrithms\n",
      "These are regression alogrithms :linear regression,multiple linear regression,polynomial regression,support vector regressor,kneareast neighbors regressor,Decision tree regression,random forest regression\n"
     ]
    }
   ],
   "source": [
    "print(\"Hii i am chabot how may i help you\")\n",
    "chatbot.converse()"
   ]
  }
 ],
 "metadata": {
  "jupytext": {
   "cell_metadata_filter": "-all",
   "encoding": "# -*- coding: utf-8 -*-",
   "main_language": "python",
   "notebook_metadata_filter": "-all"
  },
  "kernelspec": {
   "display_name": "Python 3",
   "language": "python",
   "name": "python3"
  },
  "language_info": {
   "codemirror_mode": {
    "name": "ipython",
    "version": 3
   },
   "file_extension": ".py",
   "mimetype": "text/x-python",
   "name": "python",
   "nbconvert_exporter": "python",
   "pygments_lexer": "ipython3",
   "version": "3.8.5"
  }
 },
 "nbformat": 4,
 "nbformat_minor": 4
}
